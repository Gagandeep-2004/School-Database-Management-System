{
 "cells": [
  {
   "cell_type": "code",
   "execution_count": 1,
   "id": "367ecb33-e218-49b8-81f8-9b6db2fe6270",
   "metadata": {},
   "outputs": [
    {
     "name": "stdout",
     "output_type": "stream",
     "text": [
      "Requirement already satisfied: mysql-connector-python in c:\\users\\hp\\appdata\\local\\programs\\python\\python311\\lib\\site-packages (9.0.0)Note: you may need to restart the kernel to use updated packages.\n",
      "\n"
     ]
    }
   ],
   "source": [
    "pip install mysql-connector-python"
   ]
  },
  {
   "cell_type": "code",
   "execution_count": 41,
   "id": "dc73ddec-f525-452b-9a75-43d74c9bd2d2",
   "metadata": {},
   "outputs": [],
   "source": [
    "import mysql.connector"
   ]
  },
  {
   "cell_type": "code",
   "execution_count": 42,
   "id": "19c7992e-388b-4892-893b-e36da0be7307",
   "metadata": {},
   "outputs": [],
   "source": [
    "from __future__ import print_function\n",
    "\n",
    "localhost = \"localhost\"\n",
    "\n",
    "yourusername = \"root\"\n",
    "\n",
    "yourpassword = \"6362\"\n",
    "\n",
    "yourdbname = \"school\"\n",
    "\n",
    "connection = mysql.connector.connect( host=localhost, user=yourusername, passwd=yourpassword, db=yourdbname )\n",
    "\n",
    "\n",
    "cursor = connection.cursor()"
   ]
  },
  {
   "cell_type": "code",
   "execution_count": 43,
   "id": "53dc01cd-4bb9-4f50-bf99-93f73d724b9b",
   "metadata": {},
   "outputs": [],
   "source": [
    "def add_student(std_id, first_name, last_name, gender, CGPA, std_class, father_name, mother_name, dob, email, phone, coaching_id, sub_id1, sub_id2, sub_id3):\n",
    "    query = \"INSERT INTO Students (std_id, first_name, last_name, gender, CGPA, std_class) VALUES (%s, %s, %s, %s, %s, %s)\"\n",
    "    cursor.execute(query, (std_id, first_name, last_name, gender, CGPA, std_class))\n",
    "    query = \"INSERT INTO Student_info (std_id, father_name, mother_name, dob, email, phone, coaching_id) VALUES (%s, %s, %s, %s, %s, %s, %s)\"\n",
    "    cursor.execute(query, (std_id, father_name, mother_name, dob, email, phone, coaching_id))\n",
    "    query = \"INSERT INTO Students_subject (student_id, sub_id1, sub_id2, sub_id3) VALUES (%s, %s, %s, %s)\"\n",
    "    cursor.execute(query, (std_id, sub_id1, sub_id2, sub_id3))\n",
    "    connection.commit()"
   ]
  },
  {
   "cell_type": "code",
   "execution_count": 47,
   "id": "03ad43c8-3ecd-4cad-a8c2-c9fdeb35e233",
   "metadata": {},
   "outputs": [
    {
     "name": "stdout",
     "output_type": "stream",
     "text": [
      "1.Add More Students: \n",
      "2.Exit: \n",
      " 1\n",
      "Student ID:  2201111\n",
      "First Name:  Yash\n",
      "Last Name:  Meshram\n",
      "Gender  M\n",
      "CGPA :  7.6\n",
      "Student's class:  4\n",
      "Father's name :  yash_papa\n",
      "Mother's name :  yash_mummy\n",
      "Date of Birth :  2004-08-22\n",
      "Email :  yashm22@iitk.ac.in\n",
      "Phone :  9999999991\n",
      "Coaching ID :  ALLEN\n",
      "subject id 1 :  MTH\n",
      "subject id 2 :  ART\n",
      "subject id 3 :  PHY\n",
      "1.Add More Students: \n",
      "2.Exit: \n",
      " 2\n"
     ]
    }
   ],
   "source": [
    "# Add students to School\n",
    "while(1):\n",
    "    x = int(input(\"1.Add More Students to Database: \\n2.Exit: \\n\"))\n",
    "    \n",
    "    if(x == 1):\n",
    "        std_id = (input(\"Student ID: \"))\n",
    "        first_name = (input(\"First Name: \"))\n",
    "        last_name = (input(\"Last Name: \"))\n",
    "        gender = (input(\"Gender \"))\n",
    "        CGPA = (input(\"CGPA : \"))\n",
    "        std_class = (input(\"Student's class: \"))\n",
    "        father_name = (input(\"Father's name : \"))\n",
    "        mother_name = (input(\"Mother's name : \"))\n",
    "        dob = (input(\"Date of Birth : \"))\n",
    "        email = (input(\"Email : \"))\n",
    "        phone = (input(\"Phone : \"))\n",
    "        coaching_id = (input(\"Coaching ID : \"))\n",
    "        sub_id1 = (input(\"subject id 1 : \"))\n",
    "        sub_id2 = (input(\"subject id 2 : \"))\n",
    "        sub_id3 = (input(\"subject id 3 : \"))\n",
    "        add_student(std_id, first_name, last_name, gender, CGPA, std_class, father_name, mother_name, dob, email, phone, coaching_id, sub_id1, sub_id2, sub_id3)\n",
    "    else:\n",
    "        break\n",
    "        "
   ]
  },
  {
   "cell_type": "code",
   "execution_count": 45,
   "id": "cbb0c170-8674-4be3-8167-ea1b0acd145f",
   "metadata": {},
   "outputs": [],
   "source": [
    "def add_teacher(teacher_id, first_name, last_name, gender, email, phone, office_no):\n",
    "    query = \"INSERT INTO Teachers (teacher_id, first_name, last_name, gender, email, phone, office_no) VALUES (%s, %s, %s, %s, %s, %s, %s)\"\n",
    "    cursor.execute(query, (teacher_id, first_name, last_name, gender, email, phone, office_no))\n",
    "    connection.commit()"
   ]
  },
  {
   "cell_type": "code",
   "execution_count": 46,
   "id": "d010b41a-a91f-412a-9e23-c03790de4a98",
   "metadata": {},
   "outputs": [
    {
     "name": "stdout",
     "output_type": "stream",
     "text": [
      "1.Add More Teachers: \n",
      "2.Exit: \n",
      " 2\n"
     ]
    }
   ],
   "source": [
    "##Add teacher to Teachers\n",
    "while(1):\n",
    "    x = int(input(\"1.Add More Teachers: \\n2.Exit: \\n\"))\n",
    "    if(x == 1):\n",
    "        teacher_id = (input(\"Teacher ID: \"))\n",
    "        first_name = (input(\"First Name: \"))\n",
    "        last_name = (input(\"Last Name: \"))\n",
    "        gender = (input(\"Gender \"))\n",
    "        email = (input(\"Email : \"))\n",
    "        phone = (input(\"Phone : \"))\n",
    "        office_no = (input(\"Office no. : \"))\n",
    "        add_teacher(teacher_id, first_name, last_name, gender, email, phone, office_no)\n",
    "    else:\n",
    "        break"
   ]
  },
  {
   "cell_type": "code",
   "execution_count": 39,
   "id": "6cc1ac6d-75b2-4f04-9290-1b9ec89122a8",
   "metadata": {},
   "outputs": [],
   "source": [
    "connection.close()"
   ]
  }
 ],
 "metadata": {
  "kernelspec": {
   "display_name": "Python 3 (ipykernel)",
   "language": "python",
   "name": "python3"
  },
  "language_info": {
   "codemirror_mode": {
    "name": "ipython",
    "version": 3
   },
   "file_extension": ".py",
   "mimetype": "text/x-python",
   "name": "python",
   "nbconvert_exporter": "python",
   "pygments_lexer": "ipython3",
   "version": "3.11.1"
  }
 },
 "nbformat": 4,
 "nbformat_minor": 5
}
